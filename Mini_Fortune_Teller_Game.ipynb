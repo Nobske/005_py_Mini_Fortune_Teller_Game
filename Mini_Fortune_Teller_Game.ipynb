{
 "cells": [
  {
   "cell_type": "markdown",
   "metadata": {},
   "source": [
    "## Mini_Fortune_Teller_Game"
   ]
  },
  {
   "cell_type": "code",
   "execution_count": 6,
   "metadata": {},
   "outputs": [],
   "source": [
    "import random"
   ]
  },
  {
   "cell_type": "code",
   "execution_count": 7,
   "metadata": {},
   "outputs": [],
   "source": [
    "answer = \"y\""
   ]
  },
  {
   "cell_type": "code",
   "execution_count": 8,
   "metadata": {},
   "outputs": [
    {
     "name": "stdout",
     "output_type": "stream",
     "text": [
      "Welcome to the fortune teller\n",
      "You need to select a color and a number and I will tell you what the future holds for you!\n"
     ]
    }
   ],
   "source": [
    "print(\"Welcome to the fortune teller\")\n",
    "print(\"You need to select a color and a number and I will tell you what the future holds for you!\")"
   ]
  },
  {
   "cell_type": "code",
   "execution_count": 9,
   "metadata": {
    "scrolled": true
   },
   "outputs": [
    {
     "name": "stdout",
     "output_type": "stream",
     "text": [
      "Select a color [yellow, green, blue, red]orange\n",
      "You need to pick one of these colors [yellow, green, blue, red]\n",
      "If you want to play again, insert 'y' or if you want to stop write 'n'y\n",
      "Select a color [yellow, green, blue, red]red\n",
      "You need to select an even number [2,4,6,8] 4\n",
      "big cars\n",
      "If you want to play again, insert 'y' or if you want to stop write 'n'y\n",
      "Select a color [yellow, green, blue, red]green\n",
      "You need to select an uneven number [1,3,5,7] 3\n",
      "wealth\n",
      "If you want to play again, insert 'y' or if you want to stop write 'n'n\n"
     ]
    }
   ],
   "source": [
    "while answer ==\"y\":\n",
    "    color = input(\"Select a color [yellow, green, blue, red]\")\n",
    "    if color == \"yellow\" or color==\"green\":\n",
    "        number = int(input(\"You need to select an uneven number [1,3,5,7] \"))\n",
    "        if number == 1:\n",
    "            print(\"sport achievements\")\n",
    "        elif number == 3:\n",
    "            print(\"wealth\")\n",
    "        elif number == 5:\n",
    "            print(\"money\")\n",
    "        elif number ==7:\n",
    "            print(\"family\")\n",
    "        else:\n",
    "            print(\"I told you to pick an uneven number\")\n",
    "              \n",
    "        \n",
    "    elif color ==\"blue\" or color==\"red\":\n",
    "        number = int(input(\"You need to select an even number [2,4,6,8] \"))\n",
    "        if number == 2:\n",
    "            print(\"sport\")\n",
    "        elif number == 4:\n",
    "            print(\"big cars\")\n",
    "        elif number == 6:\n",
    "            print(\"musician\")\n",
    "        elif number ==8:\n",
    "            print(\"luck\")\n",
    "        else:\n",
    "            print(\"I told you to pick an uneven number\")\n",
    "    else:\n",
    "        print(\"You need to pick one of these colors [yellow, green, blue, red]\")\n",
    "    \n",
    "    answer = input(\"If you want to play again, insert 'y' or if you want to stop write 'n'\")"
   ]
  },
  {
   "cell_type": "code",
   "execution_count": null,
   "metadata": {},
   "outputs": [],
   "source": []
  },
  {
   "cell_type": "code",
   "execution_count": null,
   "metadata": {},
   "outputs": [],
   "source": []
  },
  {
   "cell_type": "code",
   "execution_count": null,
   "metadata": {},
   "outputs": [],
   "source": []
  }
 ],
 "metadata": {
  "kernelspec": {
   "display_name": "Python 3",
   "language": "python",
   "name": "python3"
  },
  "language_info": {
   "codemirror_mode": {
    "name": "ipython",
    "version": 3
   },
   "file_extension": ".py",
   "mimetype": "text/x-python",
   "name": "python",
   "nbconvert_exporter": "python",
   "pygments_lexer": "ipython3",
   "version": "3.6.8"
  }
 },
 "nbformat": 4,
 "nbformat_minor": 2
}
